{
 "cells": [
  {
   "cell_type": "code",
   "execution_count": 0,
   "metadata": {
    "application/vnd.databricks.v1+cell": {
     "cellMetadata": {
      "byteLimit": 2048000,
      "implicitDf": true,
      "rowLimit": 10000
     },
     "inputWidgets": {},
     "nuid": "6edb01be-ecb6-415c-9e6f-56380c58f8f3",
     "showTitle": false,
     "tableResultSettingsMap": {},
     "title": ""
    }
   },
   "outputs": [],
   "source": [
    "%sql\n",
    "CREATE OR REPLACE TABLE ashraf_osman_gnhx_da.llm_audit.genie_conversation_logs (\n",
    "    request_date DATE,\n",
    "    databricks_request_id STRING,\n",
    "    client_request_id STRING,\n",
    "    request_time TIMESTAMP,\n",
    "    status_code INT,\n",
    "    sampling_fraction DOUBLE,\n",
    "    execution_duration_ms BIGINT,\n",
    "    request STRING,\n",
    "    response STRING,\n",
    "    served_entity_id STRING,\n",
    "    logging_error_codes STRING,\n",
    "    requester STRING\n",
    ");"
   ]
  }
 ],
 "metadata": {
  "application/vnd.databricks.v1+notebook": {
   "computePreferences": null,
   "dashboards": [],
   "environmentMetadata": {
    "base_environment": "",
    "environment_version": "2"
   },
   "inputWidgetPreferences": null,
   "language": "python",
   "notebookMetadata": {
    "mostRecentlyExecutedCommandWithImplicitDF": {
     "commandId": 2804724653941713,
     "dataframes": [
      "_sqldf"
     ]
    },
    "pythonIndentUnit": 2
   },
   "notebookName": "Genie_log_table",
   "widgets": {}
  },
  "language_info": {
   "name": "python"
  }
 },
 "nbformat": 4,
 "nbformat_minor": 0
}
